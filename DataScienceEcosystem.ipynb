{
 "cells": [
  {
   "cell_type": "markdown",
   "id": "d115b009-a423-433d-9c5e-74835ddff6b9",
   "metadata": {},
   "source": [
    "# Data Science Tools and Ecosystem\n"
   ]
  },
  {
   "cell_type": "markdown",
   "id": "461e991d-33b3-477c-9348-eb5cac78c274",
   "metadata": {},
   "source": [
    "In this notebook, Data Science Tools and Ecosystem are summarized.\r\n"
   ]
  },
  {
   "cell_type": "markdown",
   "id": "e0a2e3c1-6eff-4bb4-9e78-9e171948a82f",
   "metadata": {},
   "source": [
    "Some of the popular languages that Data Scientists use are:\r\n",
    "\r\n",
    "1. Python\r\n",
    "2. R\r\n",
    "3. Julia\r\n"
   ]
  },
  {
   "cell_type": "markdown",
   "id": "3ff56881-da73-43c6-a43f-4f1781377c3f",
   "metadata": {},
   "source": [
    "Some of the commonly used libraries used by Data Scientists include:\r\n",
    "\r\n",
    "1. NumPy\r\n",
    "2. Pandas\r\n",
    "3. Matplotlib\r\n"
   ]
  },
  {
   "cell_type": "markdown",
   "id": "96b2da89-af75-45c8-8a11-77d628f96c0c",
   "metadata": {},
   "source": [
    "| Data Science Tools |\r\n",
    "| ------------------- |\r\n",
    "| Jupyter Notebook    |\r\n",
    "| RStudio             |\r\n",
    "| VSCode              |\r\n"
   ]
  },
  {
   "cell_type": "markdown",
   "id": "fd095288-6484-4efd-9dc1-dd50231c9c0c",
   "metadata": {},
   "source": [
    "### Below are a few examples of evaluating arithmetic expressions in Python.\r\n"
   ]
  },
  {
   "cell_type": "code",
   "execution_count": 3,
   "id": "ff37c84b-22de-440a-9317-5a610a6865a1",
   "metadata": {},
   "outputs": [
    {
     "data": {
      "text/plain": [
       "17"
      ]
     },
     "execution_count": 3,
     "metadata": {},
     "output_type": "execute_result"
    }
   ],
   "source": [
    "# This is a simple arithmetic expression to multiply then add integers.\n",
    "result = (3 * 4) + 5\n",
    "result\n"
   ]
  },
  {
   "cell_type": "code",
   "execution_count": 4,
   "id": "e1482575-7c1c-4d36-a4b6-84462ca2cda4",
   "metadata": {},
   "outputs": [
    {
     "data": {
      "text/plain": [
       "3.3333333333333335"
      ]
     },
     "execution_count": 4,
     "metadata": {},
     "output_type": "execute_result"
    }
   ],
   "source": [
    "# This will convert 200 minutes to hours by dividing by 60.\n",
    "minutes = 200\n",
    "hours = minutes / 60\n",
    "hours\n"
   ]
  },
  {
   "cell_type": "markdown",
   "id": "01241a70-a313-46e8-8099-8f8baa4cd3fd",
   "metadata": {},
   "source": [
    "**Objectives:**\r\n",
    "\r\n",
    "- List popular languages for Data Science.\r\n",
    "- Introduce commonly used libraries in Data Science.\r\n",
    "- Showcase data science development environment tools.\r\n",
    "- Demonstrate evaluation of arithmetic expressions in Python.\r\n",
    "- Illustrate unit conversion from minutes to hours.\r\n"
   ]
  },
  {
   "cell_type": "markdown",
   "id": "428b2f18-7f2a-46b9-afef-999c84eeaeef",
   "metadata": {},
   "source": [
    "## Author\r\n",
    "\r\n",
    "Isha Pahwa\r\n"
   ]
  },
  {
   "cell_type": "code",
   "execution_count": null,
   "id": "d9d2bde6-8e0c-4333-8676-52fca59eb571",
   "metadata": {},
   "outputs": [],
   "source": []
  }
 ],
 "metadata": {
  "kernelspec": {
   "display_name": "Python 3 (ipykernel)",
   "language": "python",
   "name": "python3"
  },
  "language_info": {
   "codemirror_mode": {
    "name": "ipython",
    "version": 3
   },
   "file_extension": ".py",
   "mimetype": "text/x-python",
   "name": "python",
   "nbconvert_exporter": "python",
   "pygments_lexer": "ipython3",
   "version": "3.10.7"
  }
 },
 "nbformat": 4,
 "nbformat_minor": 5
}
